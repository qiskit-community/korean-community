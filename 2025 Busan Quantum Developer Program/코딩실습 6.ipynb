{
  "cells": [
    {
      "cell_type": "code",
      "execution_count": 1,
      "metadata": {},
      "outputs": [
        {
          "name": "stdout",
          "output_type": "stream",
          "text": [
            "Qiskit version: 2.1.1\n",
            "Runtime version: 0.41.0\n"
          ]
        }
      ],
      "source": [
        "import qiskit\n",
        "import qiskit_ibm_runtime\n",
        "print(f\"Qiskit version: {qiskit.__version__}\")\n",
        "print(f\"Runtime version: {qiskit_ibm_runtime.__version__}\")"
      ]
    },
    {
      "cell_type": "markdown",
      "id": "dbb193c8-d927-434c-a199-48de57c99694",
      "metadata": {},
      "source": [
        "## 6교시 : Primitive inputs and outputs\n",
        "\n"
      ]
    },
    {
      "cell_type": "markdown",
      "metadata": {},
      "source": [
        "아래 회로와 같이 양자 회로를 만들어봅시다.\n",
        "\n",
        "![](img/ex11.png)"
      ]
    },
    {
      "cell_type": "code",
      "execution_count": null,
      "id": "f9235c64-5dfc-42bd-b864-17f2bcdf77b9",
      "metadata": {},
      "outputs": [
        {
          "data": {
            "image/png": "[encoded data removed]",
            "text/plain": [
              "<Figure size 621.739x200.667 with 1 Axes>"
            ]
          },
          "execution_count": 2,
          "metadata": {},
          "output_type": "execute_result"
        }
      ],
      "source": [
        "from qiskit.circuit import (\n",
        "    Parameter,\n",
        "    QuantumCircuit,\n",
        "    ClassicalRegister,\n",
        "    QuantumRegister,\n",
        ")\n",
        "from qiskit.transpiler import generate_preset_pass_manager\n",
        "from qiskit.quantum_info import SparsePauliOp\n",
        "from qiskit.primitives.containers import BitArray\n",
        "\n",
        "from qiskit_ibm_runtime import QiskitRuntimeService, Sampler, Estimator\n",
        "import numpy as np\n",
        "\n",
        "# Define a circuit with two parameters.\n",
        "circuit = QuantumCircuit(2)\n",
        "circuit.h(0)\n",
        "circuit.cx(0, 1)\n",
        "circuit.ry(Parameter(\"a\"), 0)\n",
        "circuit.rz(Parameter(\"b\"), 0)\n",
        "circuit.cx(0, 1)\n",
        "circuit.h(0)\n",
        "circuit.draw('mpl')"
      ]
    },
    {
      "cell_type": "markdown",
      "metadata": {},
      "source": [
        "Parameter에 들어갈 값을 지정합니다."
      ]
    },
    {
      "cell_type": "code",
      "execution_count": 5,
      "metadata": {},
      "outputs": [
        {
          "name": "stdout",
          "output_type": "stream",
          "text": [
            "[[ -3.14159265 -12.56637061]\n",
            " [ -3.07812614 -12.31250454]\n",
            " [ -3.01465962 -12.05863847]\n",
            " [ -2.9511931  -11.8047724 ]\n",
            " [ -2.88772658 -11.55090632]\n",
            " [ -2.82426006 -11.29704025]\n",
            " [ -2.76079354 -11.04317418]\n",
            " [ -2.69732703 -10.7893081 ]\n",
            " [ -2.63386051 -10.53544203]\n",
            " [ -2.57039399 -10.28157596]\n",
            " [ -2.50692747 -10.02770988]\n",
            " [ -2.44346095  -9.77384381]\n",
            " [ -2.37999443  -9.51997774]\n",
            " [ -2.31652792  -9.26611167]\n",
            " [ -2.2530614   -9.01224559]\n",
            " [ -2.18959488  -8.75837952]\n",
            " [ -2.12612836  -8.50451345]\n",
            " [ -2.06266184  -8.25064737]\n",
            " [ -1.99919533  -7.9967813 ]\n",
            " [ -1.93572881  -7.74291523]\n",
            " [ -1.87226229  -7.48904915]\n",
            " [ -1.80879577  -7.23518308]\n",
            " [ -1.74532925  -6.98131701]\n",
            " [ -1.68186273  -6.72745093]\n",
            " [ -1.61839622  -6.47358486]\n",
            " [ -1.5549297   -6.21971879]\n",
            " [ -1.49146318  -5.96585272]\n",
            " [ -1.42799666  -5.71198664]\n",
            " [ -1.36453014  -5.45812057]\n",
            " [ -1.30106362  -5.2042545 ]\n",
            " [ -1.23759711  -4.95038842]\n",
            " [ -1.17413059  -4.69652235]\n",
            " [ -1.11066407  -4.44265628]\n",
            " [ -1.04719755  -4.1887902 ]\n",
            " [ -0.98373103  -3.93492413]\n",
            " [ -0.92026451  -3.68105806]\n",
            " [ -0.856798    -3.42719199]\n",
            " [ -0.79333148  -3.17332591]\n",
            " [ -0.72986496  -2.91945984]\n",
            " [ -0.66639844  -2.66559377]\n",
            " [ -0.60293192  -2.41172769]\n",
            " [ -0.53946541  -2.15786162]\n",
            " [ -0.47599889  -1.90399555]\n",
            " [ -0.41253237  -1.65012947]\n",
            " [ -0.34906585  -1.3962634 ]\n",
            " [ -0.28559933  -1.14239733]\n",
            " [ -0.22213281  -0.88853126]\n",
            " [ -0.1586663   -0.63466518]\n",
            " [ -0.09519978  -0.38079911]\n",
            " [ -0.03173326  -0.12693304]\n",
            " [  0.03173326   0.12693304]\n",
            " [  0.09519978   0.38079911]\n",
            " [  0.1586663    0.63466518]\n",
            " [  0.22213281   0.88853126]\n",
            " [  0.28559933   1.14239733]\n",
            " [  0.34906585   1.3962634 ]\n",
            " [  0.41253237   1.65012947]\n",
            " [  0.47599889   1.90399555]\n",
            " [  0.53946541   2.15786162]\n",
            " [  0.60293192   2.41172769]\n",
            " [  0.66639844   2.66559377]\n",
            " [  0.72986496   2.91945984]\n",
            " [  0.79333148   3.17332591]\n",
            " [  0.856798     3.42719199]\n",
            " [  0.92026451   3.68105806]\n",
            " [  0.98373103   3.93492413]\n",
            " [  1.04719755   4.1887902 ]\n",
            " [  1.11066407   4.44265628]\n",
            " [  1.17413059   4.69652235]\n",
            " [  1.23759711   4.95038842]\n",
            " [  1.30106362   5.2042545 ]\n",
            " [  1.36453014   5.45812057]\n",
            " [  1.42799666   5.71198664]\n",
            " [  1.49146318   5.96585272]\n",
            " [  1.5549297    6.21971879]\n",
            " [  1.61839622   6.47358486]\n",
            " [  1.68186273   6.72745093]\n",
            " [  1.74532925   6.98131701]\n",
            " [  1.80879577   7.23518308]\n",
            " [  1.87226229   7.48904915]\n",
            " [  1.93572881   7.74291523]\n",
            " [  1.99919533   7.9967813 ]\n",
            " [  2.06266184   8.25064737]\n",
            " [  2.12612836   8.50451345]\n",
            " [  2.18959488   8.75837952]\n",
            " [  2.2530614    9.01224559]\n",
            " [  2.31652792   9.26611167]\n",
            " [  2.37999443   9.51997774]\n",
            " [  2.44346095   9.77384381]\n",
            " [  2.50692747  10.02770988]\n",
            " [  2.57039399  10.28157596]\n",
            " [  2.63386051  10.53544203]\n",
            " [  2.69732703  10.7893081 ]\n",
            " [  2.76079354  11.04317418]\n",
            " [  2.82426006  11.29704025]\n",
            " [  2.88772658  11.55090632]\n",
            " [  2.9511931   11.8047724 ]\n",
            " [  3.01465962  12.05863847]\n",
            " [  3.07812614  12.31250454]\n",
            " [  3.14159265  12.56637061]]\n"
          ]
        }
      ],
      "source": [
        "# \"a\" 와 \"b\" 의 값을 각각 100개씩 설정해줍니다.\n",
        "params = np.vstack(\n",
        "    [\n",
        "        np.linspace(-np.pi, np.pi, 100),\n",
        "        np.linspace(-4 * np.pi, 4 * np.pi, 100),\n",
        "    ]\n",
        ").T\n",
        "print(params)"
      ]
    },
    {
      "cell_type": "code",
      "execution_count": null,
      "metadata": {},
      "outputs": [],
      "source": [
        "# (3, 1) 행렬의 모양으로 3가지의 관측가능량을 정의해봅시다.\n",
        "# XX, IY, 0.5 XX + 0.5 IY 입니다.\n",
        "observables = [\n",
        "    #\n",
        "]"
      ]
    },
    {
      "cell_type": "markdown",
      "metadata": {},
      "source": [
        "이제 회로를 트랜스파일 해봅시다."
      ]
    },
    {
      "cell_type": "code",
      "execution_count": null,
      "metadata": {},
      "outputs": [],
      "source": [
        "# 회로를 트랜스파일 해보세요.\n",
        "#\n",
        "\n"
      ]
    },
    {
      "cell_type": "code",
      "execution_count": null,
      "metadata": {},
      "outputs": [],
      "source": [
        "# 트랜스파일한 회로에 맞게 관측가능량도 매핑을 해줘야 합니다.\n",
        "observables = [\n",
        "    [observable.apply_layout(isa_circuit.layout) for observable in observable_set]\n",
        "    for observable_set in observables\n",
        "]"
      ]
    },
    {
      "cell_type": "markdown",
      "metadata": {},
      "source": [
        "이제 아래와 같이 pub을 구성하여 Estimator를 실행해보겠습니다."
      ]
    },
    {
      "cell_type": "code",
      "execution_count": null,
      "metadata": {},
      "outputs": [],
      "source": [
        "# 아래의 pub을 실행한 결괏값의 형태는 (3, 100)이 됩니다.\n",
        "# 현재 파라미터의 형태가 (100, 2), 관측가능량의 형태가 (3, 1)이라는 것을 잘 기억해두세요.\n",
        "estimator_pub = (isa_circuit, observables, params)\n",
        "\n",
        "# estimator를 설정하여 실행합니다.\n",
        "estimator = Estimator(mode=backend)\n",
        "job = estimator.run([estimator_pub])\n",
        "result = job.result()"
      ]
    },
    {
      "cell_type": "markdown",
      "metadata": {},
      "source": [
        "실행한 결과를 같이 확인해볼까요?"
      ]
    },
    {
      "cell_type": "code",
      "execution_count": null,
      "metadata": {},
      "outputs": [],
      "source": [
        "#"
      ]
    },
    {
      "cell_type": "markdown",
      "id": "92e5f627-e4e9-433b-8fce-e25dff68bdef",
      "metadata": {},
      "source": [
        "### Broadcasting 규칙\n",
        "\n",
        "PUB에 들어가는 변수들이 다양한 형태로 배열되어 있을 때 input을 구성하는 방식은 Numpy의 broadcasting 규칙을 따릅니다.자세한 설명은 [Qiskit 가이드](https://quantum.cloud.ibm.com/docs/en/guides/primitive-input-output)와 [NumPy broadcasting 규칙 문서](https://numpy.org/doc/stable/user/basics.broadcasting.html)를 참고하세요.\n",
        "\n",
        "규칙:\n",
        "\n",
        "*   입력값 배열은 서로 다른 차원과 크기를 가질 수 있습니다.\n",
        "    *   결괏값의 배열은 입력값 배열의 각 차원에서 가장 큰 크기를 가져와 구성됩니다.\n",
        "    *   누락된 차원이 있다면 해당 차원의 크기는 1로 가정합니다.\n",
        "*   차원 크기는 가장 오른쪽(0차원)부터 순서대로 비교합니다.\n",
        "*   두 배열의 각 차원의 크기는 서로 같거나 둘 중 하나가 1이어야 합니다.\n",
        "\n",
        "broadcast 가능한 배열의 예시:\n",
        "\n",
        "```text\n",
        "A1     (1d array):      1\n",
        "A2     (2d array):  3 x 5\n",
        "Result (2d array):  3 x 5\n",
        "\n",
        "\n",
        "A1     (3d array):  11 x 2 x 7\n",
        "A2     (3d array):  11 x 1 x 7\n",
        "Result (3d array):  11 x 2 x 7\n",
        "```\n",
        "\n",
        "broadcast가 되지 않는 배열의 예시:\n",
        "\n",
        "```text\n",
        "A1     (1d array):  5\n",
        "A2     (1d array):  3\n",
        "\n",
        "A1     (2d array):      2 x 1\n",
        "A2     (3d array):  6 x 5 x 4 # 가운데 차원의 크기가 2였으면 broadcast가 가능했겠네요.\n",
        "```\n",
        "\n",
        "Qiskit primitive는 broadcast된 배열의 각 input을 가져와 결괏값을 계산합니다.\n",
        "\n",
        "Broadcasting을 적용하는 주요 케이스에 대해 얘기해봅시다:\n",
        "\n",
        "![This image illustrates several visual representations of array broadcasting](img/broadcasting.svg \"Visual representation of broadcasting\")\n",
        "\n"
      ]
    },
    {
      "cell_type": "code",
      "execution_count": null,
      "id": "3cdc6e07-cc70-494b-84ef-f74585b6a201",
      "metadata": {},
      "outputs": [],
      "source": [
        "# Broadcast single observable\n",
        "parameter_values = np.random.uniform(size=(5,))  # shape (5,)\n",
        "observables = SparsePauliOp(\"ZZZ\")  # shape ()\n",
        "# >> pub result has shape (5,)\n",
        "\n",
        "# Zip\n",
        "parameter_values = np.random.uniform(size=(5,))  # shape (5,)\n",
        "observables = [\n",
        "    SparsePauliOp(pauli) for pauli in [\"III\", \"XXX\", \"YYY\", \"ZZZ\", \"XYZ\"]\n",
        "]  # shape (5,)\n",
        "# >> pub result has shape (5,)\n",
        "\n",
        "# Outer/Product\n",
        "parameter_values = np.random.uniform(size=(1, 6))  # shape (1, 6)\n",
        "observables = [\n",
        "    [SparsePauliOp(pauli)] for pauli in [\"III\", \"XXX\", \"YYY\", \"ZZZ\"]\n",
        "]  # shape (4, 1)\n",
        "# >> pub result has shape (4, 6)\n",
        "\n",
        "# Standard nd generalization\n",
        "parameter_values = np.random.uniform(size=(3, 6))  # shape (3, 6)\n",
        "observables = [\n",
        "    [\n",
        "        [SparsePauliOp([\"XII\"])],\n",
        "        [SparsePauliOp([\"IXI\"])],\n",
        "        [SparsePauliOp([\"IIX\"])],\n",
        "    ],\n",
        "    [\n",
        "        [SparsePauliOp([\"ZII\"])],\n",
        "        [SparsePauliOp([\"IZI\"])],\n",
        "        [SparsePauliOp([\"IIZ\"])],\n",
        "    ],\n",
        "]\n",
        "# >> pub result has shape (2, 3, 1)"
      ]
    },
    {
      "cell_type": "markdown",
      "metadata": {},
      "source": [
        "위에서 주어진 케이스를 실행해보고 앞에서와 같이 그래프로 나타내봅시다."
      ]
    },
    {
      "cell_type": "code",
      "execution_count": null,
      "metadata": {},
      "outputs": [],
      "source": [
        "#"
      ]
    }
  ],
  "metadata": {
    "celltoolbar": "Raw Cell Format",
    "description": "Understand the input and output format (including Primitive Unified Blocs or PUBs) of the primitives",
    "kernelspec": {
      "display_name": "qgss",
      "language": "python",
      "name": "python3"
    },
    "language_info": {
      "codemirror_mode": {
        "name": "ipython",
        "version": 3
      },
      "file_extension": ".py",
      "mimetype": "text/x-python",
      "name": "python",
      "nbconvert_exporter": "python",
      "pygments_lexer": "ipython3",
      "version": "3.12.11"
    },
    "title": "Primitive inputs and outputs"
  },
  "nbformat": 4,
  "nbformat_minor": 4
}
