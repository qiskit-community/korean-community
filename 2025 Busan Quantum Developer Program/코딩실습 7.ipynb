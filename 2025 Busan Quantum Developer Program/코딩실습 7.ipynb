{
  "cells": [
    {
      "cell_type": "code",
      "execution_count": 1,
      "metadata": {},
      "outputs": [
        {
          "name": "stdout",
          "output_type": "stream",
          "text": [
            "Qiskit version: 2.1.0\n",
            "Runtime version: 0.40.1\n"
          ]
        }
      ],
      "source": [
        "import qiskit\n",
        "import qiskit_ibm_runtime\n",
        "print(f\"Qiskit version: {qiskit.__version__}\")\n",
        "print(f\"Runtime version: {qiskit_ibm_runtime.__version__}\")"
      ]
    },
    {
      "cell_type": "markdown",
      "metadata": {},
      "source": [
        "## 7교시 : Qiskit Runtime Advanced Techniques\n",
        "\n",
        "이전까지 Sampler나 Estimator를 사용할 때에 `Sampler(mode=backend)`와 같이 백엔드를 지정하여 회로를 바로 보내는 방식은 잡(Job) 모드에 해당합니다. 그렇다면 Qiskit Runtime을 사용하는 다른 모드들에 대해서도 알아봐야겠죠?"
      ]
    },
    {
      "cell_type": "markdown",
      "metadata": {},
      "source": [
        "### 7-1 : 세션(Session) 모드\n",
        "\n",
        "세션 모드는 여러 번의 양자 컴퓨팅 작업을 연속적으로 수행할 때에 사용할 수 있는 모드입니다. 특히, 최적화 알고리즘과 같이 양자 컴퓨팅 계산을 수행하고 그 결과를 가지고 고전적인 컴퓨팅 작업을 수행한 후, 새로운 회로를 만들어 양자 컴퓨터로 보내는 작업을 반복하는 경우에 유용합니다.\n",
        "\n",
        "<img src=\"img/session.svg\" width=\"600\"/>\n",
        "\n",
        "세션이 실행되는 동안은 접속한 양자 컴퓨터를 독점적으로 사용하게 되며, 여러 개의 job을 대기 시간 없이 빠르게 실행할 수 있습니다. 대신, 실제로 양자 회로를 실행하는 시간 뿐만 아니라 고전적인 계산이 수행되는 시간도 사용 시간에 합산되므로 양자 컴퓨터의 사용 시간이 제한적인 경우 사용에 주의가 필요합니다.\n",
        "\n",
        "아래의 두 예시는 세션을 열어 사용하는 두 가지 방법을 보여줍니다."
      ]
    },
    {
      "cell_type": "code",
      "execution_count": null,
      "metadata": {},
      "outputs": [],
      "source": [
        "from qiskit_aer import AerSimulator\n",
        "from qiskit_ibm_runtime import Session, Sampler, Estimator\n",
        "\n",
        "backend = AerSimulator()\n",
        "session = Session(backend=backend)\n",
        "estimator = Estimator(mode=session)\n",
        "sampler = Sampler(mode=session)\n",
        "session.close() # Session을 닫는 것을 잊지 마세요!"
      ]
    },
    {
      "cell_type": "code",
      "execution_count": null,
      "metadata": {},
      "outputs": [],
      "source": [
        "with Session(backend=backend): # With문을 쓰면 구문이 끝날 때에 자동으로 세션이 닫힙니다.\n",
        "    estimator = Estimator() # With문으로 열려 있는 세션을 자동으로 가져옵니다.\n",
        "    sampler = Sampler()"
      ]
    },
    {
      "cell_type": "markdown",
      "metadata": {},
      "source": [
        "세션을 이용하여 최적화를 수행하는 예시를 살펴봅시다. 이 예시에서는 Qiskit Optimization 패키지를 활용해 최적화 문제를 정의해보겠습니다. 아래의 셀을 실행해 패키지를 설치합니다."
      ]
    },
    {
      "cell_type": "code",
      "execution_count": null,
      "metadata": {},
      "outputs": [],
      "source": [
        "%pip install qiskit-optimization"
      ]
    },
    {
      "cell_type": "markdown",
      "metadata": {},
      "source": [
        "아래의 코드를 따라 최적화 문제를 정의하여 관측가능량으로 변환해봅시다."
      ]
    },
    {
      "cell_type": "code",
      "execution_count": null,
      "metadata": {},
      "outputs": [],
      "source": [
        "# Docplex로 최적화 문제를 정의합니다.\n",
        "from docplex.mp.model import Model\n",
        "\n",
        "mdl = Model(\"docplex model\")\n",
        "x = mdl.binary_var(\"x\")\n",
        "y = mdl.integer_var(lb=-1, ub=5, name=\"y\")\n",
        "mdl.minimize(-x*y -3*x +y)\n",
        "mdl.add_constraint(x + y == 0)\n",
        "print(mdl.export_as_lp_string())"
      ]
    },
    {
      "cell_type": "code",
      "execution_count": null,
      "metadata": {},
      "outputs": [],
      "source": [
        "# Docplex 모델을 Qiskit Optimization 라이브러리의 QuadraticProgram 클래스로 가져옵니다.\n",
        "from qiskit_optimization.translators import from_docplex_mp\n",
        "\n",
        "mod = from_docplex_mp(mdl)\n",
        "print(type(mod))\n",
        "print()\n",
        "print(mod.prettyprint())"
      ]
    },
    {
      "cell_type": "code",
      "execution_count": null,
      "metadata": {},
      "outputs": [],
      "source": [
        "# QuadraticProgramToQubo 컨버터와 to_ising 함수를 이용해 문제를 관측가능량으로 변환합니다.\n",
        "from qiskit_optimization.converters import QuadraticProgramToQubo\n",
        "\n",
        "conv = QuadraticProgramToQubo()\n",
        "qubo = conv.convert(mod)\n",
        "qubitOp, offset = qubo.to_ising()\n",
        "print(\"Offset:\", offset)\n",
        "print(\"Ising Hamiltonian:\")\n",
        "print(str(qubitOp))"
      ]
    },
    {
      "cell_type": "markdown",
      "metadata": {},
      "source": [
        "위와 같이 최적화 문제를 관측가능량으로 정의할 수 있습니다. 이제 circuit library의 QAOA 회로를 가져와 scipy 최적화 함수로 최적화를 수행해봅시다. 세션을 활용하여 계산이 연속적으로 수행될 수 있도록 합니다."
      ]
    },
    {
      "cell_type": "code",
      "execution_count": null,
      "metadata": {},
      "outputs": [],
      "source": [
        "import numpy as np\n",
        "from scipy.optimize import minimize\n",
        "from qiskit.circuit.library import QAOAAnsatz\n",
        "from qiskit import generate_preset_pass_manager\n",
        "from qiskit_aer import AerSimulator\n",
        "\n",
        "ansatz = QAOAAnsatz(qubitOp, reps=3)\n",
        "backend = AerSimulator()\n",
        "pm = generate_preset_pass_manager(backend=backend)\n",
        "isa_ansatz = pm.run(ansatz)\n",
        "isa_observable = qubitOp.apply_layout(isa_ansatz.layout)  # 관측가능량도 트랜스파일 하는 것을 잊지 마세요!\n",
        "\n",
        "rng = np.random.default_rng(seed=42)\n",
        "x0 = 2 * np.pi * rng.random(ansatz.num_parameters)\n",
        "\n",
        "cost_func_vals = []\n",
        "\n",
        "def cost_func(params, ansatz, observable, estimator):\n",
        "    cost = (\n",
        "        estimator.run([(ansatz, observable, params)])\n",
        "        .result()[0].data.evs\n",
        "    )\n",
        "    cost_func_vals.append(cost)\n",
        "    return cost\n",
        "\n",
        "with Session(backend=backend, max_time='1m'):\n",
        "    options = {\"simulator\": {\"seed_simulator\": 42}}\n",
        "    estimator = Estimator(options=options)\n",
        "    sampler = Sampler(options=options)\n",
        "    res = minimize(cost_func, x0, args=(isa_ansatz, isa_observable, estimator), method=\"cobyla\")\n",
        "    job = sampler.run([(isa_ansatz.measure_active(inplace=False), res.x)])\n",
        "    counts = job.result()[0].data.meas.get_counts()\n",
        "\n",
        "print(res)"
      ]
    },
    {
      "cell_type": "markdown",
      "metadata": {},
      "source": [
        "저장한 최적화 곡선을 확인해봅시다."
      ]
    },
    {
      "cell_type": "code",
      "execution_count": null,
      "metadata": {},
      "outputs": [],
      "source": [
        "import matplotlib.pyplot as plt\n",
        "\n",
        "plt.plot(cost_func_vals)\n",
        "plt.xlabel('Iterations')\n",
        "plt.ylabel('Cost function value')\n",
        "plt.show()"
      ]
    },
    {
      "cell_type": "markdown",
      "metadata": {},
      "source": [
        "최적화가 완료된 상태에서 결과의 분포를 확인합니다."
      ]
    },
    {
      "cell_type": "code",
      "execution_count": null,
      "metadata": {},
      "outputs": [],
      "source": [
        "from qiskit.visualization import plot_histogram\n",
        "\n",
        "plot_histogram(counts)"
      ]
    },
    {
      "cell_type": "markdown",
      "metadata": {},
      "source": [
        "문제의 exact solution도 확인해봅시다."
      ]
    },
    {
      "cell_type": "code",
      "execution_count": null,
      "metadata": {},
      "outputs": [],
      "source": [
        "eigenvalues, eigenvectors = np.linalg.eig(qubitOp)\n",
        "ground_energy = min(eigenvalues).real\n",
        "num_solutions = eigenvalues.tolist().count(ground_energy)\n",
        "index_solutions = np.where(eigenvalues == ground_energy)[0].tolist()\n",
        "print(f\"The ground energy of the Hamiltonian is {ground_energy}\")\n",
        "print(f\"The number of solutions of the problem is {num_solutions}\")\n",
        "print(f\"The list of the solutions based on their index is {index_solutions}\")"
      ]
    },
    {
      "cell_type": "markdown",
      "metadata": {},
      "source": [
        "`0001` 이라는 결과가 최적의 값이라는 것을 확인할 수 있습니다. 이 값을 원래의 변수 x, y 값으로 변환하면 어떻게 될까요?"
      ]
    },
    {
      "cell_type": "code",
      "execution_count": null,
      "metadata": {},
      "outputs": [],
      "source": [
        "# 컨버터의 interpret 함수로 처음 정의한 x, y 값으로 변환합니다.\n",
        "# Little endian 정렬에 주의하세요!\n",
        "print(f'[x, y] = {conv.interpret([1, 0, 0, 0])}')\n",
        "print(f'Cost function value: {ground_energy + offset}')  # Ising model로 변환할 때 발생한 상수항을 더해줍니다."
      ]
    },
    {
      "cell_type": "markdown",
      "metadata": {},
      "source": [
        "x = 1, y = -1 의 값을 가질 때에 함수가 최솟값을 갖는다는 결과를 얻었습니다. 다른 문제에 대해서는 알고리즘이 얼마나 잘 작동하는지도 테스트해보세요!"
      ]
    },
    {
      "cell_type": "markdown",
      "metadata": {},
      "source": [
        "다음으로 넘어가기 전에 Session의 정보를 표시하는 `details()` 메소드까지 확인을 해보도록 합시다. 세션의 정보는 실제 Qiskit 런타임 서비스를 이용하는 경우에만 표시가 됩니다."
      ]
    },
    {
      "cell_type": "code",
      "execution_count": null,
      "metadata": {},
      "outputs": [],
      "source": [
        "from qiskit_ibm_runtime import QiskitRuntimeService\n",
        "\n",
        "service = QiskitRuntimeService(name='qgss-2025')\n",
        "backend = service.least_busy()\n",
        "with Session(backend=backend) as session:\n",
        "    session.details()"
      ]
    },
    {
      "cell_type": "markdown",
      "metadata": {},
      "source": [
        "### 7-2 : 배치(Batch) 모드\n",
        "\n",
        "배치 모드도 세션 모드와 유사하게 여러 개의 job을 실행할 때에 사용할 수 있습니다. 배치 모드는 특히 여러 개의 복잡한 회로를 실행하는 경우나, cpu/gpu 클러스터를 활용해 병렬적으로 회로를 구성하고 job을 보내는 경우에 유용합니다.\n",
        "\n",
        "<img src=\"img/batch.svg\" width=\"600\"/>\n",
        "\n",
        "배치 모드에서는 양자 회로 실행 전후의 전처리/후처리도 병렬적으로 수행되므로, 여러 개의 큐빗을 사용하는 복잡한 양자 회로를 수십/수백 개 이상 실행하는 경우에는 하나의 job으로 회로를 묶어서 보내는 것보다 배치 모드로 서버에서 전처리/후처리 연산이 병렬적으로 수행될 수 있도록 하는 것이 더 빠르게 수행될 수 있습니다.\n",
        "\n",
        "배치 모드는 양자 컴퓨터의 독점 사용권을 보장하지는 않으며, 배치 실행 중 회로를 실행하지 않는 시간에는 다른 사용자가 양자 컴퓨터를 사용할 수 있습니다. 대신, 배치 모드에서는 실제로 양자 회로를 실행하는 시간만이 사용 시간으로 계산되므로 세션 모드보다 경제적으로 양자 컴퓨터를 사용할 수 있습니다.\n",
        "\n",
        "배치 모드의 사용법은 세션 모드와 아주 비슷합니다."
      ]
    },
    {
      "cell_type": "code",
      "execution_count": null,
      "metadata": {},
      "outputs": [],
      "source": [
        "from qiskit_aer import AerSimulator\n",
        "from qiskit_ibm_runtime import Batch, Sampler, Estimator\n",
        "\n",
        "backend = AerSimulator()\n",
        "batch = Batch(backend=backend)\n",
        "estimator = Estimator(mode=batch)\n",
        "sampler = Sampler(mode=batch)\n",
        "batch.close() # Batch 닫는 것을 잊지 마세요!"
      ]
    },
    {
      "cell_type": "code",
      "execution_count": null,
      "metadata": {},
      "outputs": [],
      "source": [
        "with Batch(backend=backend): # With문을 쓰면 구문이 끝날 때에 자동으로 배치가 닫힙니다.\n",
        "    estimator = Estimator() # With문으로 열려 있는 배치를 자동으로 가져옵니다.\n",
        "    sampler = Sampler()"
      ]
    },
    {
      "cell_type": "code",
      "execution_count": null,
      "metadata": {},
      "outputs": [],
      "source": [
        "from qiskit_ibm_runtime import QiskitRuntimeService\n",
        "\n",
        "service = QiskitRuntimeService(name='qgss-2025')\n",
        "backend = service.least_busy()\n",
        "with Batch(backend=backend) as batch:\n",
        "    batch.details()"
      ]
    },
    {
      "cell_type": "markdown",
      "metadata": {},
      "source": [
        "Batch를 활용해 여러 개의 job을 병렬적으로 보내고 실행할 수 있습니다."
      ]
    },
    {
      "cell_type": "code",
      "execution_count": null,
      "metadata": {},
      "outputs": [],
      "source": [
        "from qiskit import generate_preset_pass_manager\n",
        "from qiskit.circuit.random import random_circuit\n",
        "from qiskit.visualization import plot_histogram\n",
        "from qiskit_ibm_runtime import Batch\n",
        "from qiskit_aer import AerSimulator\n",
        "\n",
        "batch_num = 5\n",
        "circuit_per_batch = 10\n",
        "\n",
        "backend = AerSimulator()\n",
        "pm = generate_preset_pass_manager(backend=backend)\n",
        "\n",
        "jobs = []\n",
        "\n",
        "with Batch(backend=backend):\n",
        "    sampler = Sampler()\n",
        "    for i in range(batch_num):\n",
        "        circuits = [random_circuit(5, 5, measure=True, seed=circuit_per_batch*i+j) for j in range(circuit_per_batch)]\n",
        "        job = sampler.run(pm.run(circuits))\n",
        "        jobs.append(job)\n",
        "\n",
        "plot_histogram(jobs[4].result()[8].data.c.get_counts())"
      ]
    },
    {
      "cell_type": "code",
      "execution_count": null,
      "metadata": {},
      "outputs": [],
      "source": []
    }
  ],
  "metadata": {
    "celltoolbar": "Raw Cell Format",
    "description": "Understand the input and output format (including Primitive Unified Blocs or PUBs) of the primitives",
    "kernelspec": {
      "display_name": "qgss",
      "language": "python",
      "name": "python3"
    },
    "language_info": {
      "codemirror_mode": {
        "name": "ipython",
        "version": 3
      },
      "file_extension": ".py",
      "mimetype": "text/x-python",
      "name": "python",
      "nbconvert_exporter": "python",
      "pygments_lexer": "ipython3",
      "version": "3.12.11"
    },
    "title": "Primitive inputs and outputs"
  },
  "nbformat": 4,
  "nbformat_minor": 4
}
