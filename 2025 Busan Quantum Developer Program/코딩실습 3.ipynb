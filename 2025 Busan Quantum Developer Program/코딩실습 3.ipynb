{
 "cells": [
  {
   "cell_type": "code",
   "execution_count": 1,
   "metadata": {},
   "outputs": [
    {
     "name": "stdout",
     "output_type": "stream",
     "text": [
      "Qiskit version: 2.1.1\n",
      "Runtime version: 0.41.0\n"
     ]
    }
   ],
   "source": [
    "import qiskit\n",
    "import qiskit_ibm_runtime\n",
    "print(f\"Qiskit version: {qiskit.__version__}\")\n",
    "print(f\"Runtime version: {qiskit_ibm_runtime.__version__}\")"
   ]
  },
  {
   "cell_type": "markdown",
   "metadata": {},
   "source": [
    "## 3교시 : 양자 회로 시각화 및 결과 분석, 양자 상태의 시각화\n",
    "\n",
    "### 3-1 양자 회로의 시각화\n",
    "\n",
    "먼저 실습을 위한 예제 회로를 하나 만들어 봅시다. 이번에는 Qiskit이 제공하는 임의의 양자 회로를 만드는 함수를 사용합니다. 이 [API 문서](https://quantum.cloud.ibm.com/docs/en/api/qiskit/circuit_random)를 참고해 주세요."
   ]
  },
  {
   "cell_type": "code",
   "execution_count": null,
   "metadata": {},
   "outputs": [],
   "source": [
    "from qiskit.circuit.random import random_circuit\n",
    "\n",
    "circ = random_circuit(4, 4, measure=True)"
   ]
  },
  {
   "cell_type": "markdown",
   "metadata": {},
   "source": [
    "양자 회로는 다양한 방법으로 출력할 수 있습니다. 양자 회로를 그리는 방법에 대해서는 이 [가이드 문서](https://quantum.cloud.ibm.com/docs/en/guides/visualize-circuits)를 참고해주세요."
   ]
  },
  {
   "cell_type": "code",
   "execution_count": null,
   "metadata": {},
   "outputs": [],
   "source": [
    "# text 형태로 출력합니다.\n",
    "\n"
   ]
  },
  {
   "cell_type": "code",
   "execution_count": null,
   "metadata": {},
   "outputs": [],
   "source": [
    "# matplotlib 형태로 출력합니다. \n",
    "\n"
   ]
  },
  {
   "cell_type": "code",
   "execution_count": null,
   "metadata": {},
   "outputs": [],
   "source": [
    "# 컴파일 되지 않은 latex 형태로 출력합니다.\n",
    "\n"
   ]
  },
  {
   "cell_type": "code",
   "execution_count": null,
   "metadata": {},
   "outputs": [],
   "source": [
    "# 비트를 역순으로 그려봅니다.\n"
   ]
  },
  {
   "cell_type": "code",
   "execution_count": null,
   "metadata": {},
   "outputs": [],
   "source": [
    "# 초기상태를 함께 그려줍니다.\n",
    "\n"
   ]
  },
  {
   "cell_type": "markdown",
   "metadata": {},
   "source": [
    "### 3-2 양자 회로 실행 결과의 시각화\n"
   ]
  },
  {
   "cell_type": "code",
   "execution_count": null,
   "metadata": {},
   "outputs": [],
   "source": [
    "from qiskit_aer import AerSimulator\n",
    "from qiskit_ibm_runtime import Sampler\n",
    "from qiskit.visualization import plot_histogram # plot_histogram을 불러옵니다.\n",
    "\n",
    "backend = AerSimulator() # 시뮬레이터를 지정합니다.\n",
    "sampler = Sampler(mode=backend) # Sampler 프리미티브로 회로를 실행합니다."
   ]
  },
  {
   "cell_type": "code",
   "execution_count": null,
   "metadata": {},
   "outputs": [],
   "source": [
    "job = sampler.run([circ]) # 회로를 실행합니다\n",
    "\n",
    "# 회로의 실행 결과에서 count를 얻어 plot_histogram으로 그려봅니다.\n",
    "\n"
   ]
  },
  {
   "cell_type": "markdown",
   "metadata": {},
   "source": [
    "### 3-3 양자 상태의 시각화\n",
    "\n",
    "양자 상태(statevector)를 시각화 하는 여러가지 방법을 살펴 봅니다. 이 [API 문서](https://quantum.cloud.ibm.com/docs/en/api/qiskit/visualization)를 참고합니다."
   ]
  },
  {
   "cell_type": "code",
   "execution_count": null,
   "metadata": {},
   "outputs": [],
   "source": [
    "from qiskit.visualization import * #qiskit.visualization에 있는 모드 기능을 불러옵니다.\n",
    "from qiskit.quantum_info import Statevector #Statevector을 불러옵니다"
   ]
  },
  {
   "cell_type": "code",
   "execution_count": null,
   "metadata": {},
   "outputs": [],
   "source": [
    "# 실습을 위해 새로운 랜덤 회로를 작성\n",
    "\n",
    "circ = random_circuit(3, 4, measure=False)"
   ]
  },
  {
   "cell_type": "code",
   "execution_count": null,
   "metadata": {},
   "outputs": [],
   "source": [
    "# Statevector 클래스를 이용해 회로의 state vector를 계산하여 저장한다.\n",
    "\n"
   ]
  },
  {
   "cell_type": "code",
   "execution_count": null,
   "metadata": {},
   "outputs": [],
   "source": [
    "# 저장된 statevector를 plot_state_qsphere를 사용해 그려본다.\n",
    "\n"
   ]
  },
  {
   "cell_type": "code",
   "execution_count": null,
   "metadata": {},
   "outputs": [],
   "source": [
    "# 저장된 statevector를 plot_bloch_multivector를 사용해 그려본다.\n",
    "\n"
   ]
  },
  {
   "cell_type": "markdown",
   "metadata": {},
   "source": [
    "### 중간 점검 퀴즈!"
   ]
  },
  {
   "cell_type": "markdown",
   "metadata": {},
   "source": [
    "1. 다음중 실행되지 못하고 에러를 반환하는 코드는?\n",
    "\n",
    "- A. `qc.draw('text')`\n",
    "- B. `qc.draw('mpl')`\n",
    "- C. `qc.draw('png')`\n",
    "- D. `qc.draw('latex_source')`"
   ]
  },
  {
   "cell_type": "code",
   "execution_count": null,
   "metadata": {},
   "outputs": [],
   "source": [
    "#\n"
   ]
  },
  {
   "cell_type": "markdown",
   "metadata": {},
   "source": [
    "2. 주어진 bloch_vector를 만들어 낼 수 있는 양자 회로를 만들어 보세요.\n",
    "\n",
    "![img](./img/ex9.png)\n"
   ]
  },
  {
   "cell_type": "code",
   "execution_count": null,
   "metadata": {},
   "outputs": [],
   "source": [
    "from qiskit.visualization import plot_bloch_vector\n",
    "from math import pi, sqrt\n",
    "\n",
    "# insert code here\n",
    "\n",
    "plot_bloch_vector(vector)"
   ]
  },
  {
   "cell_type": "markdown",
   "metadata": {},
   "source": [
    "3. 큐비트가  $|0\\rangle$의 상태에서 시작했을 때, 다음중 어느 코드가 큐빗의 상태가  $|0\\rangle$에 남아있도록 하는가?"
   ]
  },
  {
   "cell_type": "code",
   "execution_count": null,
   "metadata": {},
   "outputs": [],
   "source": [
    "#A\n",
    "qc.ry(pi/2,0)\n",
    "qc.s(0)\n",
    "qc.rx(pi/2,0)\n",
    "\n",
    "#B\n",
    "qc.ry(pi/2,0)\n",
    "qc.rx(pi/2,0)\n",
    "qc.s(0)\n",
    "\n",
    "#C\n",
    "qc.s(0)\n",
    "qc.ry(pi/2,0)\n",
    "qc.rx(pi/2,0)\n",
    "\n",
    "#D\n",
    "qc.rx(pi/2,0)\n",
    "qc.s(0)\n",
    "qc.ry(pi/2,0)"
   ]
  },
  {
   "cell_type": "code",
   "execution_count": null,
   "metadata": {},
   "outputs": [],
   "source": []
  }
 ],
 "metadata": {
  "kernelspec": {
   "display_name": "qgss",
   "language": "python",
   "name": "python3"
  },
  "language_info": {
   "codemirror_mode": {
    "name": "ipython",
    "version": 3
   },
   "file_extension": ".py",
   "mimetype": "text/x-python",
   "name": "python",
   "nbconvert_exporter": "python",
   "pygments_lexer": "ipython3",
   "version": "3.12.11"
  }
 },
 "nbformat": 4,
 "nbformat_minor": 2
}
