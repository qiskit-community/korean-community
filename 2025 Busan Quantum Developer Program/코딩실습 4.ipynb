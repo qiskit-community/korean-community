{
 "cells": [
  {
   "cell_type": "code",
   "execution_count": 1,
   "id": "21af08a8-a790-446c-9c98-4ad4394dc4cc",
   "metadata": {},
   "outputs": [
    {
     "name": "stdout",
     "output_type": "stream",
     "text": [
      "Qiskit version: 2.1.1\n",
      "Runtime version: 0.41.0\n"
     ]
    }
   ],
   "source": [
    "import qiskit\n",
    "import qiskit_ibm_runtime\n",
    "print(f\"Qiskit version: {qiskit.__version__}\")\n",
    "print(f\"Runtime version: {qiskit_ibm_runtime.__version__}\")"
   ]
  },
  {
   "cell_type": "markdown",
   "id": "c559535f",
   "metadata": {},
   "source": [
    "## 4교시 : Quantum Information and Operator Flow\n",
    "\n",
    "Qiskit은 양자 정보를 위한 다양한 편의 기능들을 `qiskit.quantum_info` 모듈을 통해 제공하며 크게\n",
    "- Statevector\n",
    "- DensityMatrix\n",
    "- Operator\n",
    "의 세 개의 모듈로 구성되어 있습니다. 이 모듈들은 이름에 따라 각기 상태 벡터, 밀도 행렬 등의 설정, 초기화 등과 관련된 기능과 게이트, 관측가능량 등을 설정하는 전반적인 기능을 제공합니다. Statevector를 먼저 살펴봅시다.\n",
    "\n",
    "\n",
    "### 4-1 : Statevector\n",
    "\n",
    "앞서 실습에 사용해 본 것 처럼, Statevector 함수는 양자회로를 입력으로 받아 출력될 상태 벡터를 반환해 주는 기능을 갖습니다. 아래의 코드를 완성해 봅시다."
   ]
  },
  {
   "cell_type": "code",
   "execution_count": null,
   "id": "b4cd3864",
   "metadata": {},
   "outputs": [],
   "source": [
    "from qiskit import QuantumCircuit\n",
    "from qiskit.quantum_info import Statevector\n",
    "from qiskit.visualization.array import array_to_latex\n",
    "\n",
    "\n",
    "qc = QuantumCircuit(2)\n",
    "qc.h(0)\n",
    "qc.cx(0, 1)\n",
    "\n",
    "statevector =  #your code\n",
    "array_to_latex(statevector)"
   ]
  },
  {
   "cell_type": "markdown",
   "id": "3e076ec6",
   "metadata": {},
   "source": [
    "또한 원하는 statevector를 만들어 내는 데에도 사용할 수 있습니다. 위의 회로와 같은 값을 갖는 상태 벡터를 아래 셀을 사용해 만들어 봅시다."
   ]
  },
  {
   "cell_type": "code",
   "execution_count": null,
   "id": "f5e1e283",
   "metadata": {},
   "outputs": [],
   "source": [
    "import numpy as np\n",
    "\n",
    "statevector = Statevector( # )\n",
    "array_to_latex(statevector)"
   ]
  },
  {
   "cell_type": "markdown",
   "id": "a11220a2",
   "metadata": {},
   "source": [
    "잘 알려진 일부 상태는 label로 저장되어 불러들여 사용할 수도 있습니다.\n",
    "\n",
    "사전 정의된 label들을 하나씩 살펴 봅시다."
   ]
  },
  {
   "cell_type": "code",
   "execution_count": null,
   "id": "712c5d97",
   "metadata": {},
   "outputs": [],
   "source": [
    "statevector = Statevector.from_label('0')\n",
    "array_to_latex(statevector)"
   ]
  },
  {
   "cell_type": "code",
   "execution_count": null,
   "id": "cc324a15",
   "metadata": {},
   "outputs": [],
   "source": [
    "statevector = Statevector.from_label('1')\n",
    "array_to_latex(statevector)"
   ]
  },
  {
   "cell_type": "code",
   "execution_count": null,
   "id": "34b41460",
   "metadata": {},
   "outputs": [],
   "source": [
    "statevector = Statevector.from_label('+')\n",
    "statevector"
   ]
  },
  {
   "cell_type": "code",
   "execution_count": null,
   "id": "6f4e9de7",
   "metadata": {},
   "outputs": [],
   "source": [
    "statevector = Statevector.from_label('-')\n",
    "array_to_latex(statevector)"
   ]
  },
  {
   "cell_type": "code",
   "execution_count": null,
   "id": "7c6648a3",
   "metadata": {},
   "outputs": [],
   "source": [
    "statevector = Statevector.from_label('r')\n",
    "array_to_latex(statevector)"
   ]
  },
  {
   "cell_type": "code",
   "execution_count": null,
   "id": "9bc0564b",
   "metadata": {},
   "outputs": [],
   "source": [
    "statevector = Statevector.from_label('l')\n",
    "array_to_latex(statevector)"
   ]
  },
  {
   "cell_type": "markdown",
   "id": "9330a29d",
   "metadata": {},
   "source": [
    "라벨의 조합도 가능합니다."
   ]
  },
  {
   "cell_type": "code",
   "execution_count": null,
   "id": "0b77b836",
   "metadata": {},
   "outputs": [],
   "source": [
    "statevector = Statevector.from_label('01')\n",
    "array_to_latex(statevector)"
   ]
  },
  {
   "cell_type": "code",
   "execution_count": null,
   "id": "d72e0a69",
   "metadata": {},
   "outputs": [],
   "source": [
    "statevector = Statevector.from_label('+-')\n",
    "array_to_latex(statevector)"
   ]
  },
  {
   "cell_type": "markdown",
   "id": "baec1e55",
   "metadata": {},
   "source": [
    "Statevector는 상태 벡터를 그림으로 그리는 여러 가지 방법도 가지고 있습니다."
   ]
  },
  {
   "cell_type": "code",
   "execution_count": null,
   "id": "aa419dbb",
   "metadata": {},
   "outputs": [],
   "source": [
    "statevector.draw(\"qsphere\");"
   ]
  },
  {
   "cell_type": "code",
   "execution_count": null,
   "id": "32ca6836",
   "metadata": {},
   "outputs": [],
   "source": [
    "statevector.draw(\"bloch\");"
   ]
  },
  {
   "cell_type": "code",
   "execution_count": null,
   "id": "3378af5a",
   "metadata": {},
   "outputs": [],
   "source": [
    "statevector.draw(\"text\")"
   ]
  },
  {
   "cell_type": "markdown",
   "id": "d798dd2f",
   "metadata": {},
   "source": [
    "그 외에 사용할 수 있는 옵션들은 latex, latex_source, hinton, city, paulivec 등이 있습니다. 아래의 셀에서 한번 자유롭게 테스트 해보세요."
   ]
  },
  {
   "cell_type": "code",
   "execution_count": null,
   "id": "196b085c",
   "metadata": {},
   "outputs": [],
   "source": [
    "#\n"
   ]
  },
  {
   "cell_type": "markdown",
   "id": "c58a81d5",
   "metadata": {},
   "source": [
    "Statevector를 사용해서 측정될 확률도 바로 계산할 수 있습니다."
   ]
  },
  {
   "cell_type": "code",
   "execution_count": null,
   "id": "4022949f",
   "metadata": {},
   "outputs": [],
   "source": [
    "# "
   ]
  },
  {
   "cell_type": "markdown",
   "id": "1773e798",
   "metadata": {},
   "source": [
    "statevector를 사용해서, shot 수에 따라 예측되는 결과도 출력해 볼수 있습니다."
   ]
  },
  {
   "cell_type": "code",
   "execution_count": null,
   "id": "eea840fc",
   "metadata": {},
   "outputs": [],
   "source": [
    "from qiskit.visualization import plot_histogram\n",
    "#\n",
    "#\n"
   ]
  },
  {
   "cell_type": "markdown",
   "id": "7bc9a3b9",
   "metadata": {},
   "source": [
    "### 4-2 Density Matrix\n",
    "\n"
   ]
  },
  {
   "cell_type": "code",
   "execution_count": null,
   "id": "fdbd89ab",
   "metadata": {},
   "outputs": [],
   "source": [
    "from qiskit.quantum_info import DensityMatrix\n",
    "\n",
    "qc = QuantumCircuit(2)\n",
    "qc.h(0)\n",
    "qc.cx(0, 1)\n",
    "\n",
    "dens_mat = #\n",
    "array_to_latex(dens_mat)"
   ]
  },
  {
   "cell_type": "markdown",
   "id": "ed5ad53e",
   "metadata": {},
   "source": [
    "DensityMatrix 함수도 자주 사용하는 상태를 label로 불러서 사용할 수 있습니다. "
   ]
  },
  {
   "cell_type": "code",
   "execution_count": null,
   "id": "7a94e05d",
   "metadata": {},
   "outputs": [],
   "source": [
    "from qiskit.quantum_info import DensityMatrix, Operator\n",
    "\n",
    "dens_mat = 0.5*DensityMatrix.from_label('0') + \\\n",
    "      0.5*DensityMatrix.from_label('1')\n",
    "array_to_latex(dens_mat.data)"
   ]
  },
  {
   "cell_type": "markdown",
   "id": "178eb306",
   "metadata": {},
   "source": [
    "Density matrix는 입력으로 operator를 받아서 evolve를 시킬수 있습니다. Operator에 대해서는 이어서 다루겠지만 이곳에서는 자주 사용하는 라벨 몇가지만 보여 드린 후, density matrix의 evolve를 실습해 보겠습니다. \n",
    "\n",
    "- ‘I’: [[1, 0], [0, 1]]\n",
    "- ‘X’: [[0, 1], [1, 0]]\n",
    "- ‘Y’: [[0, -1j], [1j, 0]]\n",
    "- ‘Z’: [[1, 0], [0, -1]] "
   ]
  },
  {
   "cell_type": "code",
   "execution_count": null,
   "id": "fc4688c3",
   "metadata": {},
   "outputs": [],
   "source": [
    "x_op = Operator.from_label('X')\n",
    "dens_mat = DensityMatrix(x_op)\n",
    "dens_mat.draw('city');"
   ]
  },
  {
   "cell_type": "code",
   "execution_count": null,
   "id": "dca4cf2a",
   "metadata": {},
   "outputs": [],
   "source": [
    "x_op = Operator.from_label('X')\n",
    "dens_mat = dens_mat.evolve(x_op)\n",
    "dens_mat.draw('city');\n"
   ]
  },
  {
   "cell_type": "code",
   "execution_count": null,
   "id": "ad756069",
   "metadata": {},
   "outputs": [],
   "source": [
    "#"
   ]
  },
  {
   "cell_type": "code",
   "execution_count": null,
   "id": "7f6f093e",
   "metadata": {},
   "outputs": [],
   "source": [
    "#"
   ]
  },
  {
   "cell_type": "markdown",
   "id": "e65b42b2",
   "metadata": {},
   "source": [
    "### 4-3 Quantum Information Operators"
   ]
  },
  {
   "cell_type": "code",
   "execution_count": null,
   "id": "d1fda0eb",
   "metadata": {},
   "outputs": [],
   "source": [
    "from qiskit.quantum_info import Operator\n",
    " \n",
    "qc = QuantumCircuit(2)\n",
    "\n",
    "#\n"
   ]
  },
  {
   "cell_type": "code",
   "execution_count": null,
   "id": "e00cf70f",
   "metadata": {},
   "outputs": [],
   "source": [
    "op_XI = Operator([[0, 0, 1, 0],\n",
    "                  [0, 0, 0, 1],\n",
    "                  [1, 0, 0, 0],\n",
    "                  [0, 1, 0, 0]])\n",
    "array_to_latex(op_XI.data)"
   ]
  },
  {
   "cell_type": "code",
   "execution_count": null,
   "id": "41215c10",
   "metadata": {},
   "outputs": [],
   "source": [
    "from qiskit.quantum_info import Pauli\n",
    " \n",
    "op_XI = Operator(Pauli('XI'))\n",
    "array_to_latex(op_XI.data)"
   ]
  },
  {
   "cell_type": "code",
   "execution_count": null,
   "id": "71bafe32",
   "metadata": {},
   "outputs": [],
   "source": [
    "from qiskit.circuit.library.standard_gates \\\n",
    "                            import CPhaseGate\n",
    "import numpy as np\n",
    "\n",
    "op_CP = Operator(CPhaseGate(np.pi / 4))\n",
    "array_to_latex(op_CP.data)"
   ]
  },
  {
   "cell_type": "code",
   "execution_count": null,
   "id": "d708bb5e",
   "metadata": {},
   "outputs": [],
   "source": [
    "pauli_piXZ = Pauli('-XZ')\n",
    "array_to_latex(pauli_piXZ.to_matrix())"
   ]
  },
  {
   "cell_type": "code",
   "execution_count": null,
   "id": "5a20c773",
   "metadata": {},
   "outputs": [],
   "source": [
    "qc = QuantumCircuit(2)\n",
    "#\n",
    "\n",
    "pauli_XZ = Pauli(qc)\n",
    "print(pauli_XZ.equiv(Pauli('-XZ')))"
   ]
  },
  {
   "cell_type": "code",
   "execution_count": null,
   "id": "51c9d7e9",
   "metadata": {},
   "outputs": [],
   "source": [
    "from qiskit.quantum_info import SparsePauliOp\n",
    "\n",
    "sparse_pauli_XZ = SparsePauliOp('XZ')\n",
    "print(sparse_pauli_XZ)"
   ]
  },
  {
   "cell_type": "code",
   "execution_count": null,
   "id": "f04bd601",
   "metadata": {},
   "outputs": [],
   "source": [
    "sparse_pauli_from_list = SparsePauliOp.from_list([('IZ', 1)])\n",
    "print(sparse_pauli_from_list)"
   ]
  },
  {
   "cell_type": "code",
   "execution_count": null,
   "id": "6b6c94cd",
   "metadata": {},
   "outputs": [],
   "source": [
    "from qiskit.quantum_info import state_fidelity\n",
    "\n",
    "sv_a = Statevector.from_label('+')\n",
    "sv_b = Statevector([1,  1] / np.sqrt(2))"
   ]
  },
  {
   "cell_type": "code",
   "execution_count": null,
   "id": "2411b2c7",
   "metadata": {},
   "outputs": [],
   "source": [
    "state_fidelity(sv_a, sv_b)"
   ]
  },
  {
   "cell_type": "markdown",
   "id": "1a41d1c8",
   "metadata": {},
   "source": [
    "예제: 다음중 X 게이트와 같은 기능을 하는 Operator는?"
   ]
  },
  {
   "cell_type": "code",
   "execution_count": null,
   "id": "4445c36d",
   "metadata": {},
   "outputs": [],
   "source": [
    "#A\n",
    "op = Operator.Xop(0)\n",
    "\n",
    "#B\n",
    "op = Operator([[0,1]])\n",
    "\n",
    "#C\n",
    "qc = QuantumCircuit(1)\n",
    "qc.x(0)\n",
    "op = Operator(qc)\n",
    "\n",
    "#D\n",
    "op = Operator([[1,0,0,1]])"
   ]
  },
  {
   "cell_type": "code",
   "execution_count": null,
   "id": "dee13381-3762-4462-9fc0-6811c448aad9",
   "metadata": {},
   "outputs": [],
   "source": []
  }
 ],
 "metadata": {
  "kernelspec": {
   "display_name": "qgss",
   "language": "python",
   "name": "python3"
  },
  "language_info": {
   "codemirror_mode": {
    "name": "ipython",
    "version": 3
   },
   "file_extension": ".py",
   "mimetype": "text/x-python",
   "name": "python",
   "nbconvert_exporter": "python",
   "pygments_lexer": "ipython3",
   "version": "3.12.11"
  }
 },
 "nbformat": 4,
 "nbformat_minor": 5
}
