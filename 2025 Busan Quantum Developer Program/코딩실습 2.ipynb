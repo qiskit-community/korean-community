{
 "cells": [
  {
   "cell_type": "code",
   "execution_count": 1,
   "metadata": {},
   "outputs": [
    {
     "name": "stdout",
     "output_type": "stream",
     "text": [
      "Qiskit version: 2.1.1\n",
      "Runtime version: 0.41.0\n"
     ]
    }
   ],
   "source": [
    "import qiskit\n",
    "import qiskit_ibm_runtime\n",
    "print(f\"Qiskit version: {qiskit.__version__}\")\n",
    "print(f\"Runtime version: {qiskit_ibm_runtime.__version__}\")"
   ]
  },
  {
   "cell_type": "markdown",
   "metadata": {},
   "source": [
    "## 2교시 : non_unitary 연산 및 OpenQasm\n",
    "\n",
    "### 2-1 non-unitary 연산\n",
    "\n",
    "양자 회로를 만드는 여러가지 방법을 포함해, 양자 회로를 사용해 다른 회로를 만들 수 있는 것, 알고 계신가요? 이번 코딩 실습에서 함께 확인해 봅시다. 관련 내용은 Qiskit API문서의 [Circuit Library](https://quantum.cloud.ibm.com/docs/en/api/qiskit/circuit_library)을 참고하며 진행해 봅시다.\n",
    "\n",
    "#### 초기화\n",
    "큐비트는 자동으로 $|0\\rangle$으로 초기화되지만, 다른 여러가지 값으로도 초기화 시킬 수 있습니다. 한번 알아 봅시다."
   ]
  },
  {
   "cell_type": "code",
   "execution_count": null,
   "metadata": {},
   "outputs": [],
   "source": [
    "from qiskit import QuantumCircuit\n",
    "from qiskit.quantum_info import Statevector\n",
    "import numpy as np"
   ]
  },
  {
   "cell_type": "markdown",
   "metadata": {},
   "source": [
    "1큐비트 양자회로를 선언한 후, initialize를 사용해 하다마드 게이트를 적용한 것과 같은 상태로 초기화 해보세요. initializes는 qc.initialize()의 형태로 사용합니다. 기타 Quantum Circuit과 관련된 명령어 들은 API 문서의 [Quantum circuit 섹션](https://quantum.cloud.ibm.com/docs/en/api/qiskit/circuit)을 살펴봅시다.\n",
    "\n",
    "참고로 하다마드 게이트는 $|0\\rangle$을 $\\frac{|0\\rangle + |1\\rangle}{\\sqrt{2}}$로 만드는 연산자입니다."
   ]
  },
  {
   "cell_type": "code",
   "execution_count": null,
   "metadata": {},
   "outputs": [],
   "source": [
    "init_state = [,]\n",
    "qc = QuantumCircuit(1)\n",
    "qc.initialize(init_state, 0)\n",
    "qc.draw('mpl')"
   ]
  },
  {
   "cell_type": "markdown",
   "metadata": {},
   "source": [
    "다음은 2큐비트 fully entangled된 양자회로를 만든 후 두 큐비트를 모두 $|0\\rangle$로 초기화 해봅시다. 초기화는 qc.reset(qubit_index)의 형태로 사용합니다."
   ]
  },
  {
   "cell_type": "code",
   "execution_count": null,
   "metadata": {},
   "outputs": [],
   "source": [
    "qc = QuantumCircuit(2)\n",
    "qc.h(0)\n",
    "qc.cx(0,1)\n",
    "# 0,1번 큐비트를 초기화 해보세요.\n",
    "\n"
   ]
  },
  {
   "cell_type": "markdown",
   "metadata": {},
   "source": [
    "#### 측정\n",
    "시험문제에서 많은 분들이 실수를 하거나 방심해서 틀리는 구간입니다. 측정은 다음의 두가지 방법으로 사용합니다.\n",
    "- `QuantumCircuit.measure(qubit, cbit)`\n",
    "- `QuantumCircuit.measure_all`\n",
    "\n",
    "각각의 방법으로 회로를 구현하고 그려본 후 잘 기억해 주세요."
   ]
  },
  {
   "cell_type": "code",
   "execution_count": null,
   "metadata": {},
   "outputs": [],
   "source": [
    "# 두개의 큐비트와 두개의 고전 비트를 지닌 양자 회로를 작성합니다. 0번 큐비트를 0번 고전비트로, 1번 큐비트를 1번 고전 비트로 측정하도록 measure를 적용하고 회로를 그려봅니다.\n",
    "\n"
   ]
  },
  {
   "cell_type": "code",
   "execution_count": null,
   "metadata": {},
   "outputs": [],
   "source": [
    "# 두개의 큐비트와 두개의 고전 비트를 지닌 양자 회로를 작성합니다. 0번 큐비트를 1번 고전비트로, 1번 큐비트를 0번 고전 비트로 측정하도록 measure를 적용하고 회로를 그려봅니다.\n",
    "\n"
   ]
  },
  {
   "cell_type": "code",
   "execution_count": null,
   "metadata": {},
   "outputs": [],
   "source": [
    "# 세 개의 큐비트와 두개의 고전 비트를 지닌 양자 회로를 작성합니다. 1번 큐비트를 1번 고전비트로, 2번 큐비트를 2번 고전 비트로 측정하도록 measure를 적용하고 회로를 그려봅니다.\n",
    "\n"
   ]
  },
  {
   "cell_type": "code",
   "execution_count": null,
   "metadata": {},
   "outputs": [],
   "source": [
    "# 세 개의 큐비트를 지닌 양자회로를 작성합니다. mearuse_all()을 적용하고 회로를 그려봅니다.\n",
    "\n"
   ]
  },
  {
   "cell_type": "markdown",
   "metadata": {},
   "source": [
    "### 2-2 회로의 조작\n",
    "\n",
    "이번에는 두개의 회로를 합치는 여러가지 방법에 대해 실습해 봅시다. 우선 재료가 될 회로 두가지를 먼저 만들어 둡시다."
   ]
  },
  {
   "cell_type": "code",
   "execution_count": null,
   "metadata": {},
   "outputs": [],
   "source": [
    "anti_cnot_qc = QuantumCircuit(2)\n",
    "    \n",
    "anti_cnot_qc.x(0)\n",
    "anti_cnot_qc.cx(0,1)\n",
    "anti_cnot_qc.x(0)\n",
    "anti_cnot_qc.draw('mpl')"
   ]
  },
  {
   "cell_type": "markdown",
   "metadata": {},
   "source": [
    "만들어둔 양자 회로를 다른 회로에 적용하기 위한 방법 중 하나는, 이 양자회로를 게이트로 변환하여 사용하는 것입니다. 위의 회로를 게이트로 다음의 셀을 실행해 변환해 봅시다.\n",
    "`.to_gate()`를 사용해 anti_cnot_gate라는 이름의 게이트로 양자 회로를 변환해 봅시다."
   ]
  },
  {
   "cell_type": "code",
   "execution_count": null,
   "metadata": {},
   "outputs": [],
   "source": [
    "anti_cnot_gate = #\n",
    "\n",
    "anti_cnot_gate.definition.draw('mpl')"
   ]
  },
  {
   "cell_type": "markdown",
   "metadata": {},
   "source": [
    "이제 만들어진 게이트를 새로운 양자 회로에 적용해 봅시다. 우선 적용할 대상이 될 회로를 만들어 둡시다."
   ]
  },
  {
   "cell_type": "code",
   "execution_count": null,
   "metadata": {},
   "outputs": [],
   "source": [
    "qc = QuantumCircuit(3)\n",
    "qc.x([0,1,2])\n",
    "qc.draw('mpl')"
   ]
  },
  {
   "cell_type": "markdown",
   "metadata": {},
   "source": [
    "만들어진 양자회로의 끝부분에 게이트나, 양자회로를 붙일때는 `append()`함수를 사용합니다.\n",
    "아래의 셀을 실행해서 결과를 확인해 봅시다."
   ]
  },
  {
   "cell_type": "code",
   "execution_count": null,
   "metadata": {},
   "outputs": [],
   "source": [
    "qc.append(anti_cnot_qc, [0,1])\n",
    "qc.decompose().draw('mpl')"
   ]
  },
  {
   "cell_type": "markdown",
   "metadata": {},
   "source": [
    "`append`를 사용해서 위에 만들어둔 양자 게이트를 qc의 각각 0번과 2번 큐비트에 적용해 봅시다."
   ]
  },
  {
   "cell_type": "code",
   "execution_count": null,
   "metadata": {},
   "outputs": [],
   "source": [
    "qc.append( # )\n",
    "qc.decompose().draw('mpl')"
   ]
  },
  {
   "cell_type": "markdown",
   "metadata": {},
   "source": [
    "양자 회로를 합치는 명령어는 여러가지가 있으며 몇가지를 테스트 해봅시다. 우선 왼쪽에 위치할 회로를 만들어 둡시다."
   ]
  },
  {
   "cell_type": "code",
   "execution_count": null,
   "metadata": {},
   "outputs": [],
   "source": [
    "qc_l = QuantumCircuit(5)\n",
    "qc_l.t(0)\n",
    "qc_l.h(1)\n",
    "qc_l.cx(0,2)\n",
    "qc_l.cx(1,4)\n",
    "qc_l.draw('mpl')"
   ]
  },
  {
   "cell_type": "markdown",
   "metadata": {},
   "source": [
    "이제 오른쪽에 합쳐질 회로를 만들어 둡니다. "
   ]
  },
  {
   "cell_type": "code",
   "execution_count": null,
   "metadata": {},
   "outputs": [],
   "source": [
    "qc_r = QuantumCircuit(2)\n",
    "qc_r.cx(0,1)\n",
    "qc_r.sdg(0)\n",
    "qc_r.draw('mpl')"
   ]
  },
  {
   "cell_type": "markdown",
   "metadata": {},
   "source": [
    "양자회로 원본을 손상시키지 않으면서 복사하기 위해서는 `.copy()` 명령어를 사용합니다.\n",
    "`qc_l`을 복사하여 `new_qc` 라는 양자회로를 만듭니다. 이 양자 회로에 `.append()` 명령어를 사용해 각각 0, 1번 큐비트에 `qc_r`회로를 합친 후 그려봅니다."
   ]
  },
  {
   "cell_type": "code",
   "execution_count": null,
   "metadata": {},
   "outputs": [],
   "source": [
    "new_qc = #\n",
    "new_qc.append( # )\n",
    "new_qc.decompose().draw('mpl')"
   ]
  },
  {
   "cell_type": "markdown",
   "metadata": {},
   "source": [
    "두 양자회로를 합치는 데는 `compose()` 명령어를 사용할 수도 있습니다. `qc_l`과 `qc_r`을 `compose()` 명령어로 합쳐봅시다."
   ]
  },
  {
   "cell_type": "code",
   "execution_count": null,
   "metadata": {},
   "outputs": [],
   "source": [
    "new_qc = #\n",
    "new_qc.draw('mpl')"
   ]
  },
  {
   "cell_type": "markdown",
   "metadata": {},
   "source": [
    "이벤에는 `qc_r`을 qc_l의 1, 2번 큐비트에 위치시켜 봅시다. `compose()`명령어를 사용합니다."
   ]
  },
  {
   "cell_type": "code",
   "execution_count": null,
   "metadata": {},
   "outputs": [],
   "source": [
    "new_qc = #\n",
    "new_qc.draw('mpl')"
   ]
  },
  {
   "cell_type": "markdown",
   "metadata": {},
   "source": [
    "이제 아주 간단한 회로를 사용해서 회로를 반복하고, 양자 회로의 레이어를 반전시키는 것을 실습해 봅시다. \n",
    "아래에 2큐비트의 간단한 양자 회로를 만들어 봅시다. 각 큐비트에 x 게이트를 적용한 후, cx(0,1)게이트를 사용해 얽어줍시다."
   ]
  },
  {
   "cell_type": "code",
   "execution_count": null,
   "metadata": {},
   "outputs": [],
   "source": [
    "#\n",
    "\n"
   ]
  },
  {
   "cell_type": "markdown",
   "metadata": {},
   "source": [
    "`repeat(iteration_number)` 명령어를 사용해 만든 양자회로를 2번 반복하여 new_qc에 저장하고 그려봅니다."
   ]
  },
  {
   "cell_type": "code",
   "execution_count": null,
   "metadata": {},
   "outputs": [],
   "source": [
    "new_qc = \n",
    "new_qc.decompose().draw('mpl')"
   ]
  },
  {
   "cell_type": "markdown",
   "metadata": {},
   "source": [
    "`inverse()` 명령어를 사용해서, qc의 `complex conjugate`회로를 만들어 출력해 봅시다."
   ]
  },
  {
   "cell_type": "code",
   "execution_count": null,
   "metadata": {},
   "outputs": [],
   "source": [
    "new_qc = \n",
    "new_qc.draw('mpl')"
   ]
  },
  {
   "cell_type": "markdown",
   "metadata": {},
   "source": [
    "이미 작성한 양자회로에 큐비트나 고전 비트를 추가하여 크기를 늘리고 싶을때는 `add_register`를 사용합니다."
   ]
  },
  {
   "cell_type": "code",
   "execution_count": null,
   "metadata": {},
   "outputs": [],
   "source": [
    "from qiskit import QuantumRegister, ClassicalRegister"
   ]
  },
  {
   "cell_type": "code",
   "execution_count": null,
   "metadata": {},
   "outputs": [],
   "source": [
    "q_bit = QuantumRegister(2)\n",
    "c_bit = ClassicalRegister(2)"
   ]
  },
  {
   "cell_type": "markdown",
   "metadata": {},
   "source": [
    "위에서 만들어둔 양자 회로에 `add_register`를 사용해 `q_bit`을 추가해 봅시다."
   ]
  },
  {
   "cell_type": "code",
   "execution_count": null,
   "metadata": {},
   "outputs": [],
   "source": [
    "\n",
    "\n",
    "qc.draw('mpl')"
   ]
  },
  {
   "cell_type": "markdown",
   "metadata": {},
   "source": [
    "위에서 만들어둔 양자 회로에 `add_register`를 사용해 `c_bit`을 추가해 봅시다."
   ]
  },
  {
   "cell_type": "code",
   "execution_count": null,
   "metadata": {},
   "outputs": [],
   "source": [
    "\n",
    "\n",
    "qc.draw('mpl')"
   ]
  },
  {
   "cell_type": "markdown",
   "metadata": {},
   "source": [
    "### 2-3 Parameterized Circuit\n",
    "Qiskit은 회로를 작성할때 변수를 선언만 해두고 나중에 원하는 값을 배정하는  Parameterized Circuit을 지원합니다. 다음과 같이 사용합니다."
   ]
  },
  {
   "cell_type": "code",
   "execution_count": null,
   "metadata": {},
   "outputs": [],
   "source": [
    "from qiskit.circuit import ParameterVector\n",
    "\n",
    "theta = ParameterVector('θ', 3)\n",
    "\n",
    "qc = QuantumCircuit(3)\n",
    "qc.h([0,1,2])\n",
    "qc.p(theta[0],0)\n",
    "qc.p(theta[1],1)\n",
    "qc.p(theta[2],2)\n",
    "\n",
    "qc.draw('mpl')"
   ]
  },
  {
   "cell_type": "markdown",
   "metadata": {},
   "source": [
    "도전 과제: 다음의 순서대로 양자 회로를 만들어 봅시다.\n",
    "\n",
    "1. 다음 그림과 같은 1큐비트의 phase 게이트를 지닌 양자회로를 만들어 `to_gate()` 명령어를 사용해 `p16_gate`라는 이름으로 저장해 둡니다. 만든 후 `p16_gate.definition.draw()`를 사용해 그려봅니다.\n",
    "   <img src=\"img/ex6.png\">\n",
    "2. 만들어둔 게이트에 `.control(2)` 명령어를 사용해서 제어 비트 두개를 추가로 붙입니다. 만든 후 `p16_gate.definition.draw()`를 사용해 그려봅니다.\n",
    "3. 4큐비트 짜리 양자 회로를 선언하고 모든 큐비트에 하다마드 게이트를 적용합니다. 이 양자 회로에  `p16_gate`를 각각 큐비트 0, 1, 3에 적용한 후 양자 회로를 그려봅니다.\n"
   ]
  },
  {
   "cell_type": "code",
   "execution_count": null,
   "metadata": {},
   "outputs": [],
   "source": [
    "# your code"
   ]
  },
  {
   "cell_type": "markdown",
   "metadata": {},
   "source": [
    "### 2-4 동적 회로\n",
    "\n",
    "회로의 측정 결과에 따라 달라지는 동적인 회로를 만들 수 있을까요? 이 [가이드 문서](https://quantum.cloud.ibm.com/docs/en/guides/classical-feedforward-and-control-flow)를 참고하여 봅시다."
   ]
  },
  {
   "cell_type": "code",
   "execution_count": null,
   "metadata": {},
   "outputs": [],
   "source": [
    "qubits = QuantumRegister(2)\n",
    "clbits = ClassicalRegister(2)\n",
    "circuit = QuantumCircuit(qubits, clbits)\n",
    "(q0, q1) = qubits\n",
    "(c0, c1) = clbits\n",
    "\n",
    "circuit.h(q0)\n",
    "circuit.measure(q0, c0)\n",
    "with circuit.if_test((c0, 1)) as else_:\n",
    "    circuit.h(q1)\n",
    "with else_:\n",
    "    circuit.x(q1)\n",
    "circuit.measure(q1, c1)\n",
    "\n",
    "circuit.draw(\"mpl\")"
   ]
  },
  {
   "cell_type": "markdown",
   "metadata": {},
   "source": [
    "도전 과제 2: 지금까지 배운 개념들을 활용하여 양자 텔레포트 회로를 다시 만들어봅시다.\n",
    "\n",
    "1. 임의의 `Statevector`를 정의하여 `initialize()` 명령어를 사용해 큐빗을 초기화해봅시다.\n",
    "2. 양자 텔레포트 회로의 나머지 부분을 동적 회로를 이용하여 만듭니다.\n",
    "   <img src=\"img/ex10.png\">\n",
    "3. 텔레포트가 완료된 큐비트에도 측정을 꼭 추가해주세요.\n",
    "4. 완성된 회로를 시뮬레이터를 이용해 실행해봅시다."
   ]
  },
  {
   "cell_type": "code",
   "execution_count": null,
   "metadata": {},
   "outputs": [],
   "source": [
    "circuit = QuantumCircuit(3, 3)\n",
    "\n",
    "# your code\n",
    "\n",
    "\n"
   ]
  },
  {
   "cell_type": "code",
   "execution_count": null,
   "metadata": {},
   "outputs": [],
   "source": [
    "from qiskit_aer import AerSimulator\n",
    "from qiskit_ibm_runtime import Sampler\n",
    "from qiskit.visualization import plot_histogram # plot_histogram을 불러옵니다.\n",
    "\n",
    "backend = AerSimulator() # 시뮬레이터를 지정합니다.\n",
    "sampler = Sampler(mode=backend) # Sampler 프리미티브로 회로를 실행합니다.\n",
    "job = sampler.run([circuit]) # 회로가 [] 안에 들어가 있는 것을 잘 봐두세요.\n",
    "count = job.result()[0].data.c.get_counts() # count를 가져오는 방법을 잘 기억해두세요.\n",
    "plot_histogram(count)"
   ]
  },
  {
   "cell_type": "markdown",
   "metadata": {},
   "source": [
    "### 2-5 OpenQasm "
   ]
  },
  {
   "cell_type": "markdown",
   "metadata": {},
   "source": [
    "OpenQasm이란 Open Quantum Assembly Language의 약자이며 양자 지시의 중간 표현 입니다. 어셈블리어 인만큼 Verilog와 비슷하게 더욱 하드웨어 친화적인 언어 입니다. Qiskit에서 만든 양자 회로를 qasm 모듈을 이용하여 더욱 하드웨어 친화적인 OpenQasm으로 바꿔줄 수 있습니다.\n",
    "\n",
    "최신 버전의 OpenQasm3를 사용하기 위해서 qasm3 패키지를 설치해봅시다."
   ]
  },
  {
   "cell_type": "code",
   "execution_count": null,
   "metadata": {},
   "outputs": [],
   "source": [
    "%pip install qiskit-qasm3-import"
   ]
  },
  {
   "cell_type": "markdown",
   "metadata": {},
   "source": [
    "QASM3 명령어는 다음과 같이 생겼습니다."
   ]
  },
  {
   "cell_type": "code",
   "execution_count": null,
   "metadata": {},
   "outputs": [],
   "source": [
    "qasm_str = \"\"\"\n",
    "OPENQASM 3.0;\n",
    "include \"stdgates.inc\";\n",
    "bit[2] c;\n",
    "qubit[2] q;\n",
    "h q[0];\n",
    "cx q[0], q[1];\n",
    "c[0] = measure q[0];\n",
    "c[1] = measure q[1];\n",
    "\"\"\""
   ]
  },
  {
   "cell_type": "markdown",
   "metadata": {},
   "source": [
    "이 qasm 명령어로 양자 회로를 만들어 봅시다. 다음의 셀을 실행해 봅시다."
   ]
  },
  {
   "cell_type": "code",
   "execution_count": null,
   "metadata": {},
   "outputs": [],
   "source": [
    "import qiskit.qasm3\n",
    "new_qc = qiskit.qasm3.loads(qasm_str)\n",
    "new_qc.draw('mpl')"
   ]
  },
  {
   "cell_type": "markdown",
   "metadata": {},
   "source": [
    "반대로 양자 회로를 openqasm 명령어로 변환하고 저장할 수도 있습니다. new_qc를 다시 openqasm 명령어로 변환해 봅시다."
   ]
  },
  {
   "cell_type": "code",
   "execution_count": null,
   "metadata": {},
   "outputs": [],
   "source": [
    "new_qasm = qiskit.qasm3.dumps(new_qc) # 양자 회로를 QASM 코드로 출력합니다.\n",
    "print(new_qasm)"
   ]
  },
  {
   "cell_type": "markdown",
   "metadata": {},
   "source": [
    " 양자 회로를 qasm으로 변환할때 파일로 바로 저장할 수도 있습니다. 다음의 셀을 실행해 봅시다."
   ]
  },
  {
   "cell_type": "code",
   "execution_count": null,
   "metadata": {},
   "outputs": [],
   "source": [
    "f = open(\"sample.qasm\", \"w\")\n",
    "new_qasm = qiskit.qasm3.dump(new_qc, f) # 양자 회로를 QASM 코드로 sample.qasm 파일로 저장합니다.\n",
    "f.close()"
   ]
  },
  {
   "cell_type": "markdown",
   "metadata": {},
   "source": [
    "이번엔 저장된 qasm 파일을 불러들여서 양자 회로를 만든 후 출력해 봅시다."
   ]
  },
  {
   "cell_type": "code",
   "execution_count": null,
   "metadata": {},
   "outputs": [],
   "source": [
    "qc2 = qiskit.qasm3.load(\"./sample.qasm\")\n",
    "qc2.draw('mpl')"
   ]
  },
  {
   "cell_type": "code",
   "execution_count": null,
   "metadata": {},
   "outputs": [],
   "source": []
  }
 ],
 "metadata": {
  "kernelspec": {
   "display_name": "qgss",
   "language": "python",
   "name": "python3"
  },
  "language_info": {
   "codemirror_mode": {
    "name": "ipython",
    "version": 3
   },
   "file_extension": ".py",
   "mimetype": "text/x-python",
   "name": "python",
   "nbconvert_exporter": "python",
   "pygments_lexer": "ipython3",
   "version": "3.12.11"
  }
 },
 "nbformat": 4,
 "nbformat_minor": 2
}
