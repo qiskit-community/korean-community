{
 "cells": [
  {
   "cell_type": "code",
   "execution_count": 1,
   "id": "0d422e10",
   "metadata": {},
   "outputs": [
    {
     "name": "stdout",
     "output_type": "stream",
     "text": [
      "Qiskit version: 2.1.1\n",
      "Runtime version: 0.41.0\n"
     ]
    }
   ],
   "source": [
    "import qiskit\n",
    "import qiskit_ibm_runtime\n",
    "print(f\"Qiskit version: {qiskit.__version__}\")\n",
    "print(f\"Runtime version: {qiskit_ibm_runtime.__version__}\")"
   ]
  },
  {
   "cell_type": "markdown",
   "id": "81a1133a",
   "metadata": {},
   "source": [
    "## 5교시 : Transpile과 Qiskit Runtime\n",
    "### 5-1 : FakeBackend와 Transpile\n",
    "\n",
    "Qiskit은 클라우드에 서비스 되는 실제 양자 백엔드의 노이즈 특성을 비롯한 여러가지 특성을 모사해둔 특별한 시뮬레이터를 또한 제공합니다. 이 시뮬레이터 들은 실제 백엔드의 basis gate의 종류나, 연결성 정보를 모두 지니고 있기 때문에, transpile이라는, 양자 회로를 리얼 백엔드에 실행하기 위해 변환해 주는 기능을 시험해 보기 아주 좋은 도구입니다. "
   ]
  },
  {
   "cell_type": "code",
   "execution_count": null,
   "id": "a7b12ac2",
   "metadata": {},
   "outputs": [],
   "source": [
    "from qiskit_ibm_runtime.fake_provider.fake_provider import FakeProviderForBackendV2\n",
    "FakeProviderForBackendV2().backends()"
   ]
  },
  {
   "cell_type": "code",
   "execution_count": null,
   "id": "e2f2a8fe",
   "metadata": {},
   "outputs": [],
   "source": [
    "from qiskit.visualization import plot_gate_map\n",
    "from qiskit_ibm_runtime.fake_provider import FakeVigoV2, FakeValenciaV2\n"
   ]
  },
  {
   "cell_type": "code",
   "execution_count": null,
   "id": "e9d07f6f",
   "metadata": {},
   "outputs": [],
   "source": [
    "plot_gate_map(FakeValenciaV2())"
   ]
  },
  {
   "cell_type": "code",
   "execution_count": null,
   "id": "1331d4f7",
   "metadata": {},
   "outputs": [],
   "source": [
    "# FakeVigo의 gate map을 그려 보세요\n",
    "\n"
   ]
  },
  {
   "cell_type": "markdown",
   "id": "8350dd1d",
   "metadata": {},
   "source": [
    "각 FakeBackend의 특성 들을 탐색해 봅시다. [이 문서](https://docs.quantum.ibm.com/api/qiskit/qiskit.providers.models.BackendConfiguration)를 참고해서 FakeVigo의 각각의 특성을 탐색해 봅시다."
   ]
  },
  {
   "cell_type": "code",
   "execution_count": null,
   "id": "011f9702",
   "metadata": {},
   "outputs": [],
   "source": [
    "conf = FakeVigoV2().configuration()"
   ]
  },
  {
   "cell_type": "code",
   "execution_count": null,
   "id": "33d02936",
   "metadata": {},
   "outputs": [],
   "source": [
    "# 각종 특성을 탐색해 보세요\n",
    "\n"
   ]
  },
  {
   "cell_type": "markdown",
   "id": "17b42254",
   "metadata": {},
   "source": [
    "### 5-2 : Transpile\n",
    "\n",
    "이 양자 백엔드에 양자 회로를 실행하면서 좋은 성능을 얻기 위해, 사용자가 직접 설정할수있는 tranpile 옵션이 여러가지 있습니다. 우선 다음 백엔드의 특성을 살펴 봅시다.\n"
   ]
  },
  {
   "cell_type": "code",
   "execution_count": null,
   "id": "5fe32838",
   "metadata": {},
   "outputs": [],
   "source": [
    "from qiskit.visualization import plot_error_map, plot_circuit_layout\n",
    "\n",
    "plot_error_map(FakeVigoV2())"
   ]
  },
  {
   "cell_type": "markdown",
   "id": "d8b541bd",
   "metadata": {},
   "source": [
    "Transpiler의 기능 중, 양자 회로의 큐비트를 물리적 큐비트에 매핑하는 기능을 사용해 더 나은 실행결과를 얻어 봅시다. 세개의 큐비트를 사용하는 다음의 대상 회로를 만들어 봅시다."
   ]
  },
  {
   "cell_type": "code",
   "execution_count": null,
   "id": "5bb0cfb5",
   "metadata": {},
   "outputs": [],
   "source": [
    "from qiskit import QuantumCircuit\n",
    "\n",
    "qc=QuantumCircuit(3,3) # 3개의 큐비트와 3개의 고전 비트를 가진 양자 회로를 만듭니다.\n",
    "qc.h(0) # 0번 큐비트에 하다마드 게이트를 적용합니다.\n",
    "qc.cx(0,1) # 0번 큐비트를 control 1번 큐비트에 target으로 지정해 CX 게이트를 적용합니다.\n",
    "qc.cx(1,2) # 1번 큐비트를 control 2번 큐비트에 target으로 지정해 CX 게이트를 적용합니다.\n",
    "qc.measure([0,1,2],[0,1,2]) # 0,1,2번 큐비트를 0,1,2번 고전 비트에 측정합니다.\n",
    "qc.draw(output='mpl') # 양자 회로를 그립니다"
   ]
  },
  {
   "cell_type": "code",
   "execution_count": null,
   "id": "9d5daf32",
   "metadata": {},
   "outputs": [],
   "source": [
    "# backend에 맞게 qc 양자 회로를 transpile 해보세요.\n",
    "# import 부터 시작해보세요\n",
    "\n",
    "backend = FakeVigoV2()\n",
    "\n",
    "#\n",
    "\n",
    "isa_circuit.draw(output=\"mpl\") # transpile한 qc 양자 회로를 그립니다."
   ]
  },
  {
   "cell_type": "code",
   "execution_count": null,
   "id": "8b6bb4de",
   "metadata": {},
   "outputs": [],
   "source": [
    "# Sampler를 이용해 양자 회로를 주어진 백엔드에서 실행해보세요.\n",
    "# import 부터 시작해보세요\n",
    "\n",
    "plot_histogram(counts)"
   ]
  },
  {
   "cell_type": "markdown",
   "id": "01fb693a",
   "metadata": {},
   "source": [
    "transpiler를 사용해서 논리적 큐비트를 물리적 큐비트에 매핑하기 위해서는 `initial_layout`값을 설정해 줄 수 있습니다. 아래의 코드에 강제로 논리적 큐비트 0,1,2를 물리적 큐비트 0, 1,3에 매핑 한 후 plot_histogram을 그려봅시다."
   ]
  },
  {
   "cell_type": "code",
   "execution_count": null,
   "id": "8a446a40",
   "metadata": {},
   "outputs": [],
   "source": [
    "pm = #\n",
    "isa_circuit = pm.run(qc)\n",
    "plot_circuit_layout(isa_circuit, backend)"
   ]
  },
  {
   "cell_type": "markdown",
   "id": "b2b7aa45",
   "metadata": {},
   "source": [
    "transpile된 회로를 실행해서 counts를 plot_histogram으로 그려 봅시다."
   ]
  },
  {
   "cell_type": "code",
   "execution_count": null,
   "id": "7734f1fc",
   "metadata": {},
   "outputs": [],
   "source": [
    "#\n",
    "\n",
    "plot_histogram(counts)"
   ]
  },
  {
   "cell_type": "markdown",
   "id": "ec4d7d0d",
   "metadata": {},
   "source": [
    " transpiler는 transpile 수준을 0부터 3까지 제공합니다. 새로운 테스트용 회로를 사용해 각각의 레벨로 주어진 회로를 transpile한 후 결과를 그려 봅시다."
   ]
  },
  {
   "cell_type": "code",
   "execution_count": null,
   "id": "db70d05e",
   "metadata": {},
   "outputs": [],
   "source": [
    "from math import pi\n",
    "\n",
    "qc_trans=QuantumCircuit(3)\n",
    "qc_trans.h(range(2))\n",
    "qc_trans.x(2)\n",
    "qc_trans.ccx(0,1,2)\n",
    "qc_trans.ry(pi,0)\n",
    "qc_trans.ch(1,2)\n",
    "qc_trans.tdg(2)\n",
    "qc_trans.cx(1,0)\n",
    "qc_trans.draw(output='mpl')"
   ]
  },
  {
   "cell_type": "code",
   "execution_count": null,
   "id": "310db284",
   "metadata": {},
   "outputs": [],
   "source": [
    "#optimization_level = 0으로 회로를 transpile 한 후 회로를 그려보세요\n",
    "pm_0 = \n",
    "isa_circuit_0 = \n",
    "isa_circuit_0.draw(output=\"mpl\") # 트랜스파일한 qc_trans 양자 회로를 그립니다."
   ]
  },
  {
   "cell_type": "code",
   "execution_count": null,
   "id": "1df7fe5f",
   "metadata": {},
   "outputs": [],
   "source": [
    "#optimization_level = 1으로 회로를 transpile 한 후 회로를 그려보세요\n",
    "pm_1 = \n",
    "isa_circuit_1 = \n",
    "isa_circuit_1.draw(output=\"mpl\") # 트랜스파일한 qc_trans 양자 회로를 그립니다."
   ]
  },
  {
   "cell_type": "code",
   "execution_count": null,
   "id": "44b82bed",
   "metadata": {},
   "outputs": [],
   "source": [
    "#optimization_level = 2으로 회로를 transpile 한 후 회로를 그려보세요\n",
    "pm_2 = \n",
    "isa_circuit_2 = \n",
    "isa_circuit_2.draw(output=\"mpl\") # 트랜스파일한 qc_trans 양자 회로를 그립니다."
   ]
  },
  {
   "cell_type": "code",
   "execution_count": null,
   "id": "31029690",
   "metadata": {},
   "outputs": [],
   "source": [
    "#optimization_level = 3으로 회로를 transpile 한 후 회로를 그려보세요\n",
    "pm_3 = \n",
    "isa_circuit_3 = \n",
    "isa_circuit_3.draw(output=\"mpl\") # 트랜스파일한 qc_trans 양자 회로를 그립니다."
   ]
  },
  {
   "cell_type": "code",
   "execution_count": null,
   "id": "13b8cf4a",
   "metadata": {},
   "outputs": [],
   "source": [
    "# 각각의 최적화 수준으로 transpile된 회로들의 depth와 size를 비교해 보세요.\n",
    "\n"
   ]
  },
  {
   "cell_type": "markdown",
   "id": "91ba91b7",
   "metadata": {},
   "source": [
    "### 5-3 : 실제 백엔드를 사용하는 방법\n",
    "\n",
    "실제 백엔드를 사용하기 위해서는 Qiskit Runtime Service에 접속해서 백엔드를 불러오는 것으로, 나머지 실행 과정은 위와 동일합니다. 서비스에 접속해봅시다."
   ]
  },
  {
   "cell_type": "code",
   "execution_count": null,
   "id": "7443454c",
   "metadata": {},
   "outputs": [],
   "source": [
    "from qiskit_ibm_runtime import QiskitRuntimeService\n",
    "\n",
    "service = QiskitRuntimeService(name='qgss-2025') # Qiskit 런타임 서비스에 접속합니다."
   ]
  },
  {
   "cell_type": "markdown",
   "id": "4cc7f8db",
   "metadata": {},
   "source": [
    "사용자의 계정이 사용할 수 있는 백엔드의 목록을 가져와 봅시다."
   ]
  },
  {
   "cell_type": "code",
   "execution_count": null,
   "id": "312c1c5e",
   "metadata": {},
   "outputs": [],
   "source": [
    "service.backends() # service에서 사용 가능한 백엔드의 목록을 불러옵니다."
   ]
  },
  {
   "cell_type": "markdown",
   "id": "a24a557c",
   "metadata": {},
   "source": [
    "계정에서, `ibm_brisbane` 백엔드를 `backend()`를 사용해 불러와서 backend로 설정해 봅시다."
   ]
  },
  {
   "cell_type": "code",
   "execution_count": null,
   "id": "03b35380",
   "metadata": {},
   "outputs": [],
   "source": [
    "backend = service.backend('ibm_brisbane')\n",
    "backend"
   ]
  },
  {
   "cell_type": "markdown",
   "id": "d8042bd1",
   "metadata": {},
   "source": [
    "ibmq_provider에서 qubit의 수가 100이상인 백엔드의 목록만 가져와 봅시다.\n"
   ]
  },
  {
   "cell_type": "code",
   "execution_count": null,
   "id": "32e75402",
   "metadata": {},
   "outputs": [],
   "source": [
    "service.backends(filters=lambda b: b.configuration().n_qubits > 100)"
   ]
  },
  {
   "cell_type": "markdown",
   "id": "3d7486e8",
   "metadata": {},
   "source": [
    "실제 양자 장치중에서 가장 대기열이 낮은 백엔드 찾기\n"
   ]
  },
  {
   "cell_type": "code",
   "execution_count": null,
   "id": "8c22e8f2",
   "metadata": {},
   "outputs": [],
   "source": [
    "#"
   ]
  },
  {
   "cell_type": "markdown",
   "id": "fb97c8db",
   "metadata": {},
   "source": [
    "## 5-4: 백엔드로 보내진 Job의 정보의 확인\n"
   ]
  },
  {
   "cell_type": "markdown",
   "id": "c22e03de",
   "metadata": {},
   "source": [
    "실습을 위해 임의의 양자 회로를 생성해 봅니다."
   ]
  },
  {
   "cell_type": "code",
   "execution_count": null,
   "id": "a052967b",
   "metadata": {},
   "outputs": [],
   "source": [
    "from qiskit.circuit.random import random_circuit\n",
    "qc = random_circuit(4, 4, measure=True)\n",
    "qc.draw('mpl')"
   ]
  },
  {
   "cell_type": "code",
   "execution_count": null,
   "id": "b6b26838",
   "metadata": {},
   "outputs": [],
   "source": [
    "from qiskit_aer import AerSimulator\n",
    "from qiskit_ibm_runtime import Sampler\n",
    "\n",
    "backend = AerSimulator() # 백엔드를 지정합니다.\n",
    "sampler = Sampler(backend)\n",
    "\n",
    "job = sampler.run([qc])"
   ]
  },
  {
   "cell_type": "code",
   "execution_count": null,
   "id": "e895d37b",
   "metadata": {},
   "outputs": [],
   "source": [
    "# job id를 출력해 봅시다.\n",
    "\n"
   ]
  },
  {
   "cell_type": "code",
   "execution_count": null,
   "id": "6293cc46",
   "metadata": {},
   "outputs": [],
   "source": [
    "# job의  backend 정보를 확인해 봅시다.\n",
    "\n"
   ]
  },
  {
   "cell_type": "code",
   "execution_count": null,
   "id": "e599f354",
   "metadata": {},
   "outputs": [],
   "source": [
    "# job의 상태를 확인해 봅시다.\n",
    "\n"
   ]
  },
  {
   "cell_type": "code",
   "execution_count": null,
   "id": "14ee1f1d",
   "metadata": {},
   "outputs": [],
   "source": [
    "# job이 완료 되었다면 결과를 다시 불러와 결과를 출력해 봅니다.\n",
    "\n"
   ]
  },
  {
   "cell_type": "markdown",
   "id": "06001211",
   "metadata": {},
   "source": [
    "## Quiz!\n",
    "1. 다음 그림을 똑같이 만들어 보세요.\n",
    "\n",
    "![question11](./img/ex8.png)"
   ]
  },
  {
   "cell_type": "code",
   "execution_count": null,
   "id": "14fddf6e",
   "metadata": {},
   "outputs": [],
   "source": [
    "# "
   ]
  },
  {
   "cell_type": "markdown",
   "id": "62b13446",
   "metadata": {},
   "source": [
    "2. 다음의 코드가 주어졌을때 "
   ]
  },
  {
   "cell_type": "code",
   "execution_count": null,
   "id": "446b2ec8",
   "metadata": {},
   "outputs": [],
   "source": [
    "from qiskit import BasicAer, Aer, execute\n",
    "qc = QuantumCircuit(1)\n",
    "qc.h(0)\n",
    "\n",
    "# insert code here\n",
    "\n",
    "print(unitary)"
   ]
  },
  {
   "cell_type": "markdown",
   "id": "0157c8f2",
   "metadata": {},
   "source": [
    "다음의 결과를 출력하게 해주도록 넣을 수 있는 코드 두가지는 무엇일까요?\n",
    "\n",
    "```\n",
    "    [[ 0.70710678+0.00000000e+00j  0.70710678-8.65956056e-17j]\n",
    "    [ 0.70710678+0.00000000e+00j -0.70710678+8.65956056e-17j]]"
   ]
  },
  {
   "cell_type": "code",
   "execution_count": null,
   "id": "abb75cee",
   "metadata": {},
   "outputs": [],
   "source": [
    "# A\n",
    "simulator = BasicAer.get_backend('unitary_simulator')\n",
    "unitary = execute(qc, simulator).get_unitary(qc)\n",
    "\n",
    "#B\n",
    "simulator = Aer.get_backend('unitary_simulator')\n",
    "result = execute(qc, simulator).result()\n",
    "unitary = result.get_unitary(qc)\n",
    "\n",
    "#C\n",
    "simulator = Aer.get_backend('statevector_simulator')\n",
    "result = execute(qc, simulator).result()\n",
    "unitary = result.get_matrix_result(qc)\n",
    "\n",
    "#D\n",
    "simulator = BasicAer.get_backend('statevector_simulator')\n",
    "result = execute(qc, simulator).result()\n",
    "unitary = result.get_unitary(qc)\n",
    "\n",
    "#E\n",
    "simulator = BasicAer.get_backend('unitary_simulator')\n",
    "result = execute(qc, simulator).result()\n",
    "unitary = result.get_unitary()\n"
   ]
  },
  {
   "cell_type": "code",
   "execution_count": null,
   "id": "e9dd8dee-681f-4475-96e4-9b232fdc4cc3",
   "metadata": {},
   "outputs": [],
   "source": []
  }
 ],
 "metadata": {
  "kernelspec": {
   "display_name": "qgss",
   "language": "python",
   "name": "python3"
  },
  "language_info": {
   "codemirror_mode": {
    "name": "ipython",
    "version": 3
   },
   "file_extension": ".py",
   "mimetype": "text/x-python",
   "name": "python",
   "nbconvert_exporter": "python",
   "pygments_lexer": "ipython3",
   "version": "3.12.11"
  }
 },
 "nbformat": 4,
 "nbformat_minor": 5
}
